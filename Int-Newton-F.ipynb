{
 "cells": [
  {
   "cell_type": "markdown",
   "metadata": {},
   "source": [
    "Importazione delle librerie numpy e matplotlib per disegnare il grafico"
   ]
  },
  {
   "cell_type": "code",
   "execution_count": 2,
   "metadata": {},
   "outputs": [],
   "source": [
    "import numpy as np \n",
    "from matplotlib import pyplot as plt \n",
    "\n",
    "from IPython.display import display, Markdown, Latex\n",
    "from ipywidgets import interact, interactive, fixed, interact_manual,Layout,Box,Label,IntSlider,Dropdown,FloatText,Textarea,Button\n",
    "import ipywidgets as widgets"
   ]
  },
  {
   "cell_type": "markdown",
   "metadata": {},
   "source": [
    "# Implementazione non ottimizzata del polinomio interpolatore di Newton"
   ]
  },
  {
   "cell_type": "markdown",
   "metadata": {},
   "source": [
    "__Notazione__\n",
    "\n",
    "$P_k(x)$ é il polinomio interpolatore di Newton di grado $k$ con coefficienti $c_k$\n",
    "\n",
    "$P_k(x)=c_0+c_1(x-x_0)+c_2(x-x_0)(x-x_1)+\\ldots + c_k(x-x_0)(x-x_1)\\ldots(x-c_{k-1})$\n",
    "\n",
    "```display_coeff_plot()``` stampa la lista di coefficenti $c_k$ del polinomio "
   ]
  },
  {
   "cell_type": "markdown",
   "metadata": {},
   "source": [
    "L'algoritmo si basa sui fatti seguenti:\n",
    "\n",
    "$P_0(x)=c_0=y_0$\n",
    "\n",
    "Inoltre per $k\\geq 1$\n",
    "\n",
    "$c_k=\\dfrac{y_k-P_{k-1}(x_k)}{(x_k-x_0)\\ldots(x_k-x_{k-1})}$ \n",
    "\n",
    "$P_k(x)=P_{k-1}(x)+c_k(x-x_0)\\ldots(x-x_{k-1}) $"
   ]
  },
  {
   "cell_type": "markdown",
   "metadata": {},
   "source": [
    "__Funzioni__\n",
    "\n",
    " - `p_factors(x,k)`: ritorna il valore della motiplicazione del polinomio $(x-x_0)(x-x_1)\\ldots(x-x_{k-1})$ per il valore $x$\n",
    " - `p_coeff(k)`: ritorna il valore del coefficiente $c_k$\n",
    " - `newton_poly(x,k)`: ritorna il valore del polinomio di grado $k$ valutato in $x$"
   ]
  },
  {
   "cell_type": "code",
   "execution_count": 3,
   "metadata": {},
   "outputs": [],
   "source": [
    "def x(k):\n",
    "    return points[k][0]\n",
    "\n",
    "def y(k):\n",
    "    return points[k][1]"
   ]
  },
  {
   "cell_type": "code",
   "execution_count": 4,
   "metadata": {},
   "outputs": [],
   "source": [
    "def p_factors(xcoord,k):\n",
    "    if k==0:\n",
    "        return 1\n",
    "    else:\n",
    "        return p_factors(xcoord,k-1)*(xcoord-x(k-1))"
   ]
  },
  {
   "cell_type": "code",
   "execution_count": 5,
   "metadata": {},
   "outputs": [],
   "source": [
    "def p_coeff(i):\n",
    "    #print(\"Call to p_coeff\")\n",
    "    if i==0:\n",
    "        return y(0)\n",
    "    else:\n",
    "        #print(\"{}-{}/{}\".format(y(i),p_value(x(i),i-1),p_factors(x(i),i)))\n",
    "        return (y(i)-newton_poly(x(i),i-1))/p_factors(x(i),i)\n"
   ]
  },
  {
   "cell_type": "code",
   "execution_count": 6,
   "metadata": {},
   "outputs": [],
   "source": [
    "def newton_poly(x,k):\n",
    "    p=0\n",
    "    for i in range(k+1):\n",
    "        p= p + p_coeff(i)*p_factors(x,i)\n",
    "    return p"
   ]
  },
  {
   "cell_type": "markdown",
   "metadata": {},
   "source": [
    "Le funzioni seguenti eseguono il plot del polinomio in un range che va dalla coordinata $x$ minima data  `-rr` (1 di default) alla coordinata $x$ massima `+rr`. Per il disegno vengono generati `sample` (default 50) punti. "
   ]
  },
  {
   "cell_type": "code",
   "execution_count": 68,
   "metadata": {},
   "outputs": [],
   "source": [
    "def plot_poly(xmin,xmax):\n",
    "\n",
    "    \"\"\"\n",
    "    Parametri:\n",
    "    rr: margine del range\n",
    "    sample: numero di punti generati per il plot\n",
    "    \"\"\"\n",
    "    rr=1\n",
    "    sample=50\n",
    "    \n",
    "    # Ricerca massimi e minimi per il range\n",
    "    xp=[] #Lista di di tutte le coordinate x dei punti dati (per ricerca di massimi e minimi)\n",
    "\n",
    "    for p in points:\n",
    "        xp.append(p[0])\n",
    "        xxmin=min(xp)\n",
    "        xxmax=max(xp)\n",
    "\n",
    "    xc=[] #Lista per le coordinate x da calcolare per il plot\n",
    "    yc=[] #Lista per le coordinate y calcolate per il plot\n",
    "    \n",
    "    #Calcolo coordinate per il plot\n",
    "    #for i in np.linspace(xmin-rr, xmax+rr, num=sample):\n",
    "    rmin=min(xmin,xxmin)\n",
    "    rmax=max(xmax,xxmax)\n",
    "    for i in np.linspace(rmin, rmax, num=sample):\n",
    "        xc.append(i)\n",
    "    for i in xc:\n",
    "        yc.append(newton_poly(i,len(xp)-1))\n",
    "\n",
    "    #Titolo e plot della funzione con punti annotati\n",
    "    #title=\"Polinomio interpolatore di Newton tra {} e {}\".format(xmin-rr,xmax+rr)\n",
    "    title=\"Polinomio interpolatore di Newton tra {} e {}\".format(rmin,rmax)\n",
    "\n",
    "    plt.title(title)\n",
    "    plt.xlabel(\"x \") \n",
    "    plt.ylabel(\"y\") \n",
    "    plt.plot(xc,yc) \n",
    "    for p in points:\n",
    "        plt.plot(p[0],p[1],'bo-')\n",
    "        plt.annotate('({},{})'.format(p[0],p[1]), # this is the text\n",
    "                     (p[0],p[1]), # this is the point to label\n",
    "                     textcoords=\"offset points\", # how to position the text\n",
    "                     xytext=(5,20), # distance from text to points (x,y)\n",
    "                     ha='center')\n",
    "    plt.show()\n",
    " "
   ]
  },
  {
   "cell_type": "code",
   "execution_count": 63,
   "metadata": {},
   "outputs": [],
   "source": [
    "def get_coeff():\n",
    "    coeff=[]\n",
    "    for i in range(len(points)):\n",
    "        coeff.append(p_coeff(i))\n",
    "    return coeff"
   ]
  },
  {
   "cell_type": "code",
   "execution_count": 64,
   "metadata": {},
   "outputs": [],
   "source": [
    "def display_coeff_plot():\n",
    "    coeff= get_coeff()\n",
    "    p = '${}$'.format(y(0))\n",
    "    for i in coeff:\n",
    "        display(Latex(\"$c_{}={:.5f}$\".format(coeff.index(i),i)))\n",
    "    for k in range(1,len(coeff)):\n",
    "        if coeff[k]<0:\n",
    "            sgn=''\n",
    "        else:\n",
    "            sgn='+'\n",
    "        p = p+sgn +'${:.5f}$'.format(coeff[k])+str_factors(k)\n",
    "    display(Latex('$P(x)=$'+p))\n",
    "  \n",
    "    \n"
   ]
  },
  {
   "cell_type": "code",
   "execution_count": 65,
   "metadata": {},
   "outputs": [],
   "source": [
    "def str_factors(k):\n",
    "    coeff=get_coeff()\n",
    "    if k==0:\n",
    "        return ''\n",
    "    else:\n",
    "        return str_factors(k-1)+'$(x-{})$'.format(x(k-1))"
   ]
  },
  {
   "cell_type": "markdown",
   "metadata": {},
   "source": [
    "---"
   ]
  },
  {
   "cell_type": "markdown",
   "metadata": {},
   "source": [
    "`points` contiene la lista delle coordinate dei punti conosciuti\n",
    "\n",
    "`points=`$[[x_0,y_0],[x_1,y_1],\\ldots,[x_{n-1},y_{n-1}]]$ che genererà un polinomio di grado $n$\n",
    "\n",
    "Potete modificare la lista di punti (se avete clonato il notebook). Ricordatevi di __eseguire__ la cella dopo aver modificato i punti. (Dalla tastiera `SHIFT+ENTER` oppure con il bottone __RUN__"
   ]
  },
  {
   "cell_type": "code",
   "execution_count": 66,
   "metadata": {},
   "outputs": [],
   "source": [
    "#points = [[4,1],[6,3],[8,8],[10,3]]\n",
    "#points = [[1,3],[2,5],[3,1],[6,-3],[10,6],[5,-7]]\n",
    "points = [[0,0],[5,0],[12,10],[19,0],[24,0]]"
   ]
  },
  {
   "cell_type": "markdown",
   "metadata": {},
   "source": [
    "__ATTENZIONE!!__  Eseguire tutte le celle sopra la chiamata a `display_coeff_plot()` prima di eseguirla. Tutte le funzioni necessarie sono definite li. "
   ]
  },
  {
   "cell_type": "code",
   "execution_count": 77,
   "metadata": {},
   "outputs": [
    {
     "data": {
      "text/latex": [
       "$c_0=0.00000$"
      ],
      "text/plain": [
       "<IPython.core.display.Latex object>"
      ]
     },
     "metadata": {},
     "output_type": "display_data"
    },
    {
     "data": {
      "text/latex": [
       "$c_0=0.00000$"
      ],
      "text/plain": [
       "<IPython.core.display.Latex object>"
      ]
     },
     "metadata": {},
     "output_type": "display_data"
    },
    {
     "data": {
      "text/latex": [
       "$c_2=0.11905$"
      ],
      "text/plain": [
       "<IPython.core.display.Latex object>"
      ]
     },
     "metadata": {},
     "output_type": "display_data"
    },
    {
     "data": {
      "text/latex": [
       "$c_3=-0.01701$"
      ],
      "text/plain": [
       "<IPython.core.display.Latex object>"
      ]
     },
     "metadata": {},
     "output_type": "display_data"
    },
    {
     "data": {
      "text/latex": [
       "$c_4=0.00142$"
      ],
      "text/plain": [
       "<IPython.core.display.Latex object>"
      ]
     },
     "metadata": {},
     "output_type": "display_data"
    },
    {
     "data": {
      "text/latex": [
       "$P(x)=$$0$+$0.00000$$(x-0)$+$0.11905$$(x-0)$$(x-5)$$-0.01701$$(x-0)$$(x-5)$$(x-12)$+$0.00142$$(x-0)$$(x-5)$$(x-12)$$(x-19)$"
      ],
      "text/plain": [
       "<IPython.core.display.Latex object>"
      ]
     },
     "metadata": {},
     "output_type": "display_data"
    },
    {
     "data": {
      "application/vnd.jupyter.widget-view+json": {
       "model_id": "1cc44ba0862941458b5e31d79d912894",
       "version_major": 2,
       "version_minor": 0
      },
      "text/plain": [
       "interactive(children=(IntSlider(value=0, description='xmin', max=20, min=-20), IntSlider(value=0, description=…"
      ]
     },
     "metadata": {},
     "output_type": "display_data"
    }
   ],
   "source": [
    "display_coeff_plot()\n",
    "\n",
    "@widgets.interact(xmin=(-20,20,1),xmax=(-20,20,1))\n",
    "def update(xmin,xmax):\n",
    "    plot_poly(xmin,xmax)"
   ]
  },
  {
   "cell_type": "code",
   "execution_count": 76,
   "metadata": {},
   "outputs": [
    {
     "data": {
      "application/vnd.jupyter.widget-view+json": {
       "model_id": "cf7d50e3d0f34ad5bb619bcd9b2cad0f",
       "version_major": 2,
       "version_minor": 0
      },
      "text/plain": [
       "IntText(value=7, description='Min:')"
      ]
     },
     "metadata": {},
     "output_type": "display_data"
    }
   ],
   "source": [
    "minwidget=widgets.IntText(\n",
    "    value=7,\n",
    "    description='Min:',\n",
    "    disabled=False,\n",
    "    max_width='30px',\n",
    "    flex='auto'\n",
    ")\n",
    "\n",
    "minwidget"
   ]
  },
  {
   "cell_type": "code",
   "execution_count": 57,
   "metadata": {},
   "outputs": [
    {
     "data": {
      "text/plain": [
       "7334"
      ]
     },
     "execution_count": 57,
     "metadata": {},
     "output_type": "execute_result"
    }
   ],
   "source": [
    "minwidget.value"
   ]
  },
  {
   "cell_type": "code",
   "execution_count": null,
   "metadata": {},
   "outputs": [],
   "source": []
  }
 ],
 "metadata": {
  "kernelspec": {
   "display_name": "Python 3",
   "language": "python",
   "name": "python3"
  },
  "language_info": {
   "codemirror_mode": {
    "name": "ipython",
    "version": 3
   },
   "file_extension": ".py",
   "mimetype": "text/x-python",
   "name": "python",
   "nbconvert_exporter": "python",
   "pygments_lexer": "ipython3",
   "version": "3.8.2"
  },
  "toc": {
   "base_numbering": 1,
   "nav_menu": {},
   "number_sections": true,
   "sideBar": true,
   "skip_h1_title": false,
   "title_cell": "Table of Contents",
   "title_sidebar": "Contents",
   "toc_cell": false,
   "toc_position": {},
   "toc_section_display": true,
   "toc_window_display": false
  }
 },
 "nbformat": 4,
 "nbformat_minor": 4
}
